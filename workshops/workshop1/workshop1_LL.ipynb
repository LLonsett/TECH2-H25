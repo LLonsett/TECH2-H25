{
 "cells": [
  {
   "cell_type": "markdown",
   "metadata": {},
   "source": [
    "# Exercise 1: Summing lists and arrays\n",
    "\n",
    "In this exercise, we investigate another difference between built-in lists and NumPy arrays: performance.\n",
    "We do this by comparing the execution time of different implementations of the `sum()` function.\n",
    "\n",
    "1. Create a list `lst` and a NumPy array `arr`, each of them containing the sequence \n",
    "   of ten values `0, 1, 2, ..., 9`.\n",
    "\n",
    "   *Hint*: You can use the list constructor [`list()`](https://www.w3schools.com/python/ref_func_list.asp)\n",
    "   and combine it with the [`range()`](https://docs.python.org/3/library/functions.html#func-range)\n",
    "   function which returns an objecting representing a range of integers.\n",
    "\n",
    "   *Hint:* You should create the NumPy array using \n",
    "   [`np.arange()`](https://numpy.org/doc/stable/reference/generated/numpy.arange.html).\n",
    "\n",
    "2. We want to compute the sum of integers contained in `lst` and `arr`. Use \n",
    "   the built-in function [`sum()`](https://www.w3schools.com/python/ref_func_sum.asp)\n",
    "   to sum elements of a list.\n",
    "   For the NumPy array, use the NumPy function \n",
    "   [`np.sum()`](https://numpy.org/doc/stable/reference/generated/numpy.sum.html).\n",
    "\n",
    "3. You are interested in benchmarking which summing function is faster.\n",
    "    Repeat the steps from above, but use the cell magic \n",
    "    [`%timeit`](https://ipython.readthedocs.io/en/stable/interactive/magics.html#magic-timeit)\n",
    "    to time the execution of a statement as follows:\n",
    "\n",
    "    ```python\n",
    "    %timeit statement\n",
    "    ```\n",
    "\n",
    "4.  Recreate the list and array to contain 100 integers starting from 0,\n",
    "    and rerun the benchmark.\n",
    "\n",
    "5.  Recreate the list and array to contain 10,000 integers starting from 0,\n",
    "    and rerun the benchmark.\n",
    "\n",
    "\n",
    "What do you conclude about the relative performance of built-in lists \n",
    "vs. NumPy arrays?"
   ]
  },
  {
   "cell_type": "code",
   "execution_count": 21,
   "metadata": {},
   "outputs": [],
   "source": [
    "import numpy as np"
   ]
  },
  {
   "cell_type": "code",
   "execution_count": 22,
   "metadata": {},
   "outputs": [
    {
     "name": "stdout",
     "output_type": "stream",
     "text": [
      "65.5 ns ± 1.89 ns per loop (mean ± std. dev. of 7 runs, 10,000,000 loops each)\n",
      "1.29 μs ± 10.2 ns per loop (mean ± std. dev. of 7 runs, 1,000,000 loops each)\n"
     ]
    }
   ],
   "source": [
    "lst=[]\n",
    "for n in range(1,10):\n",
    "    lst.append(n)\n",
    "\n",
    "arr=np.arange(10)\n",
    "\n",
    "# Benchmark our sum\n",
    "%timeit sum(lst)\n",
    "%timeit np.sum(arr)"
   ]
  },
  {
   "cell_type": "code",
   "execution_count": null,
   "metadata": {},
   "outputs": [
    {
     "name": "stdout",
     "output_type": "stream",
     "text": [
      "338 ns ± 1.79 ns per loop (mean ± std. dev. of 7 runs, 1,000,000 loops each)\n",
      "1.29 μs ± 8.85 ns per loop (mean ± std. dev. of 7 runs, 1,000,000 loops each)\n"
     ]
    }
   ],
   "source": [
    "lst=[]\n",
    "for n in range(1,100):\n",
    "    lst.append(n)\n",
    "\n",
    "arr=np.arange(100)\n",
    "\n",
    "# Benchmark our sum\n",
    "%timeit sum(lst)\n",
    "%timeit np.sum(arr)"
   ]
  },
  {
   "cell_type": "code",
   "execution_count": null,
   "metadata": {},
   "outputs": [
    {
     "name": "stdout",
     "output_type": "stream",
     "text": [
      "3 μs ± 15 ns per loop (mean ± std. dev. of 7 runs, 100,000 loops each)\n",
      "1.44 μs ± 35.3 ns per loop (mean ± std. dev. of 7 runs, 1,000,000 loops each)\n"
     ]
    }
   ],
   "source": [
    "lst=[]\n",
    "for n in range(1,1000):\n",
    "    lst.append(n)\n",
    "\n",
    "arr=np.arange(1000)\n",
    "\n",
    "# Benchmark our sum\n",
    "%timeit sum(lst)\n",
    "%timeit np.sum(arr)"
   ]
  },
  {
   "cell_type": "markdown",
   "metadata": {},
   "source": [
    "***\n",
    "# Exercise 2: Maximizing quadratic utility"
   ]
  },
  {
   "cell_type": "markdown",
   "metadata": {},
   "source": [
    "Assume that an individual derives utility from consuming $c$ items according to the following\n",
    "utility function $u(\\bullet)$:\n",
    "$$\n",
    "u(c) = - A (c - B)^2 + C\n",
    "$$\n",
    "\n",
    "where $A > 0$, $B > 0$ and $C$ are parameters, and $c$ is the consumption level.\n",
    "\n",
    "In this exercise, you are asked to locate the consumption level which delivers the maximum utility.\n",
    "\n",
    "1.  Define a function called `util()` which takes as arguments the consumption level `c` and \n",
    "    three additional arguments `A`, `B`, and `C` which are the parameters of $u(\\bullet)$ define above. The function should return the utility associated \n",
    "    with the given consumption level `c`.\n",
    "\n",
    "2.  Write a function `find_max_cons()` which takes as arguments a sequence of candidate consumption levels and the three parameters\n",
    "    `A`, `B`, and `C`, and returns the maximum utility as well as the consumption level at which utility is maximized.\n",
    "    The function definition should look like this:\n",
    "    ```python\n",
    "    def find_max_cons(candidates, A, B, C):\n",
    "        \"\"\"\n",
    "        Find the consumption level that maximizes utility from a \n",
    "        list of candidates.\n",
    "\n",
    "        Parameters\n",
    "        ----------\n",
    "        candidates : list or array-like\n",
    "            List of candidate consumption levels to evaluate.\n",
    "        A, B, C : float\n",
    "            Parameters of the utility function.\n",
    "\n",
    "        Returns\n",
    "        -------\n",
    "        u_max\n",
    "            Maximized utility\n",
    "        cons_max\n",
    "            Consumption at which utility is maximized\n",
    "        \"\"\"\n",
    "    ```\n",
    "\n",
    "    Your algorithm should perform the following steps:\n",
    "\n",
    "    1.  Define the variable `u_max = -np.inf` (negative infinity) as the initial value.\n",
    "    2.  Loop through all candidate consumption levels, and compute the associated utility. \n",
    "        If this utility is larger than the previous maximum value `u_max`, update `u_max` and store the associated consumption level `cons_max`.\n",
    "    3. Return `u_max` and `cons_max` after the loop terminates.\n",
    "\n",
    "1. Find the maximum:\n",
    "    1.  Create an array `cons` of 51 candidate consumption levels which are uniformly spaced on \n",
    "        the  interval $[0, 4]$.\n",
    "\n",
    "        *Hint:* Use [`np.linspace()`](https://numpy.org/doc/stable/reference/generated/numpy.linspace.html)\n",
    "        for this task.\n",
    "\n",
    "    2.  Use the parameters $A = 1$, $B=2$, and $C=10$.\n",
    "    3.  Use the function `find_max_cons()` to compute the maximum utility and the associated optimal \n",
    "        consumption level, and print the results.\n",
    "\n",
    "2. Repeat the exercise, but instead use vectorized operations from NumPy:\n",
    "    1. Compute and store the utility levels for *all* elements in `cons` at once (simply apply the formula to the whole array).\n",
    "    2. Locate the index of the maximum utility level using \n",
    "       [`np.argmax()`](https://numpy.org/doc/stable/reference/generated/numpy.argmax.html).\n",
    "    3. Use the index returned by `np.argmax()` to retrieve the maximum utility and the \n",
    "        corresponding consumption level, and print the results.\n",
    "\n"
   ]
  },
  {
   "cell_type": "code",
   "execution_count": 37,
   "metadata": {},
   "outputs": [
    {
     "ename": "ValueError",
     "evalue": "The truth value of an array with more than one element is ambiguous. Use a.any() or a.all()",
     "output_type": "error",
     "traceback": [
      "\u001b[31m---------------------------------------------------------------------------\u001b[39m",
      "\u001b[31mValueError\u001b[39m                                Traceback (most recent call last)",
      "\u001b[36mCell\u001b[39m\u001b[36m \u001b[39m\u001b[32mIn[37]\u001b[39m\u001b[32m, line 17\u001b[39m\n\u001b[32m     11\u001b[39m         u_max = util(cons, A=\u001b[32m1\u001b[39m, B=\u001b[32m2\u001b[39m, C=\u001b[32m10\u001b[39m)\n\u001b[32m     12\u001b[39m     \u001b[38;5;28;01mreturn\u001b[39;00m u_max\n\u001b[32m---> \u001b[39m\u001b[32m17\u001b[39m \u001b[43mfind_max_cons\u001b[49m\u001b[43m(\u001b[49m\u001b[43mcons\u001b[49m\u001b[43m,\u001b[49m\u001b[43m \u001b[49m\u001b[43mA\u001b[49m\u001b[43m=\u001b[49m\u001b[32;43m1\u001b[39;49m\u001b[43m,\u001b[49m\u001b[43m \u001b[49m\u001b[43mB\u001b[49m\u001b[43m=\u001b[49m\u001b[32;43m2\u001b[39;49m\u001b[43m,\u001b[49m\u001b[43m \u001b[49m\u001b[43mC\u001b[49m\u001b[43m=\u001b[49m\u001b[32;43m10\u001b[39;49m\u001b[43m)\u001b[49m\n\u001b[32m     21\u001b[39m \u001b[33;03m\"\"\"\u001b[39;00m\n\u001b[32m     22\u001b[39m \u001b[33;03mFind the consumption level that maximizes utility from a \u001b[39;00m\n\u001b[32m     23\u001b[39m \u001b[33;03mlist of candidates.\u001b[39;00m\n\u001b[32m   (...)\u001b[39m\u001b[32m     37\u001b[39m \u001b[33;03m    Consumption at which utility is maximized\u001b[39;00m\n\u001b[32m     38\u001b[39m \u001b[33;03m\"\"\"\u001b[39;00m\n",
      "\u001b[36mCell\u001b[39m\u001b[36m \u001b[39m\u001b[32mIn[37]\u001b[39m\u001b[32m, line 10\u001b[39m, in \u001b[36mfind_max_cons\u001b[39m\u001b[34m(candidates, A, B, C)\u001b[39m\n\u001b[32m      8\u001b[39m \u001b[38;5;28;01mdef\u001b[39;00m\u001b[38;5;250m \u001b[39m\u001b[34mfind_max_cons\u001b[39m(candidates, A=\u001b[32m1\u001b[39m, B=\u001b[32m2\u001b[39m, C=\u001b[32m10\u001b[39m):\n\u001b[32m      9\u001b[39m     u_max = -np.inf\n\u001b[32m---> \u001b[39m\u001b[32m10\u001b[39m     \u001b[38;5;28;01mif\u001b[39;00m \u001b[43mutil\u001b[49m\u001b[43m(\u001b[49m\u001b[43mcons\u001b[49m\u001b[43m,\u001b[49m\u001b[43m \u001b[49m\u001b[43mA\u001b[49m\u001b[43m=\u001b[49m\u001b[32;43m1\u001b[39;49m\u001b[43m,\u001b[49m\u001b[43m \u001b[49m\u001b[43mB\u001b[49m\u001b[43m=\u001b[49m\u001b[32;43m2\u001b[39;49m\u001b[43m,\u001b[49m\u001b[43m \u001b[49m\u001b[43mC\u001b[49m\u001b[43m=\u001b[49m\u001b[32;43m10\u001b[39;49m\u001b[43m)\u001b[49m\u001b[43m \u001b[49m\u001b[43m>\u001b[49m\u001b[43m \u001b[49m\u001b[43mu_max\u001b[49m:\n\u001b[32m     11\u001b[39m         u_max = util(cons, A=\u001b[32m1\u001b[39m, B=\u001b[32m2\u001b[39m, C=\u001b[32m10\u001b[39m)\n\u001b[32m     12\u001b[39m     \u001b[38;5;28;01mreturn\u001b[39;00m u_max\n",
      "\u001b[31mValueError\u001b[39m: The truth value of an array with more than one element is ambiguous. Use a.any() or a.all()"
     ]
    }
   ],
   "source": [
    "def util(candidates, A=1, B=2, C=10):\n",
    "    p = -A*(candidates-B)**2 + C\n",
    "    return p\n",
    "\n",
    "cons=np.linspace(1,6,51)\n",
    "\n",
    "\n",
    "def find_max_cons(candidates, A=1, B=2, C=10):\n",
    "    u_max = -np.inf\n",
    "    if util(cons, A=1, B=2, C=10) > u_max:\n",
    "        u_max = util(cons, A=1, B=2, C=10)\n",
    "    return u_max\n",
    "\n",
    "\n",
    "    \n",
    "\n",
    "find_max_cons(cons, A=1, B=2, C=10)\n",
    "        \n",
    "        \n",
    "\n",
    "\"\"\"\n",
    "Find the consumption level that maximizes utility from a \n",
    "list of candidates.\n",
    "\n",
    "Parameters\n",
    "----------\n",
    "candidates : list or array-like\n",
    "    List of candidate consumption levels to evaluate.\n",
    "A, B, C : float\n",
    "    Parameters of the utility function.\n",
    "\n",
    "Returns\n",
    "-------\n",
    "u_max\n",
    "    Maximized utility\n",
    "cons_max\n",
    "    Consumption at which utility is maximized\n",
    "\"\"\"\n"
   ]
  }
 ],
 "metadata": {
  "kernelspec": {
   "display_name": "TECH2",
   "language": "python",
   "name": "python3"
  },
  "language_info": {
   "codemirror_mode": {
    "name": "ipython",
    "version": 3
   },
   "file_extension": ".py",
   "mimetype": "text/x-python",
   "name": "python",
   "nbconvert_exporter": "python",
   "pygments_lexer": "ipython3",
   "version": "3.13.5"
  }
 },
 "nbformat": 4,
 "nbformat_minor": 2
}
